{
 "metadata": {
  "language_info": {
   "codemirror_mode": {
    "name": "ipython",
    "version": 3
   },
   "file_extension": ".py",
   "mimetype": "text/x-python",
   "name": "python",
   "nbconvert_exporter": "python",
   "pygments_lexer": "ipython3",
   "version": "3.7.3-final"
  },
  "orig_nbformat": 2,
  "kernelspec": {
   "name": "python3",
   "display_name": "Python 3",
   "language": "python"
  }
 },
 "nbformat": 4,
 "nbformat_minor": 2,
 "cells": [
  {
   "source": [
    "# Objectives\n",
    "Try to determine which news sources have the most reliable data to inform decisions in the stock market. We will be analyzing tweets from big companies such as Bloomberg, JP Morgan, and Goldman Sachs to see whether their tweets or the general sentiment of responses are correlated with increases or decreases in stock prices. We will use this as a benchmark to compare less popular sources of stock market data such as Reddit.\n",
    "\n",
    "# Data Sources\n",
    "- Twitter Kaggle Datasets/API\n",
    "- Reddit API\n",
    "- Kaggle Stock Market Datasets\n",
    "- Yahoo Finance API\n",
    "\n",
    "# Hypothesis\n",
    "We think that the sentiment of tweets from big stock market information sources will be reliable and have a positive correlation to stock prices. Less popular sources for stock information like Reddit will be more error prone, but will provide opportunities that yield high profit. The reasoning behind this is that people trust news from companies such as Bloomberg making those bets safer, but also less profitable. Random insights from Redditors may be wrong most of the time, but may \"hit the jackpot.\""
   ],
   "cell_type": "markdown",
   "metadata": {}
  },
  {
   "source": [
    "import pandas as pd"
   ],
   "cell_type": "code",
   "metadata": {},
   "execution_count": 1,
   "outputs": []
  },
  {
   "source": [
    "# Cleaning up Twitter Kaggle Dataset"
   ],
   "cell_type": "markdown",
   "metadata": {}
  },
  {
   "cell_type": "code",
   "execution_count": 30,
   "metadata": {},
   "outputs": [
    {
     "output_type": "execute_result",
     "data": {
      "text/plain": [
       "                    id                                               text  \\\n",
       "0  1019696670777503700  VIDEO: “I was in my office. I was minding my o...   \n",
       "1  1019709091038548000  The price of lumber $LB_F is down 22% since hi...   \n",
       "2  1019711413798035500  Who says the American Dream is dead? https://t...   \n",
       "3  1019716662587740200  Barry Silbert is extremely optimistic on bitco...   \n",
       "4  1019718460287389700  How satellites avoid attacks and space junk wh...   \n",
       "\n",
       "                        timestamp        source symbols      company_names  \\\n",
       "0  Wed Jul 18 21:33:26 +0000 2018  GoldmanSachs      GS  The Goldman Sachs   \n",
       "1  Wed Jul 18 22:22:47 +0000 2018    StockTwits       M             Macy's   \n",
       "2  Wed Jul 18 22:32:01 +0000 2018     TheStreet     AIG           American   \n",
       "3  Wed Jul 18 22:52:52 +0000 2018   MarketWatch     BTC            Bitcoin   \n",
       "4  Wed Jul 18 23:00:01 +0000 2018        Forbes    ORCL             Oracle   \n",
       "\n",
       "                                                 url  verified  \n",
       "0  https://twitter.com/i/web/status/1019696670777...      True  \n",
       "1  https://twitter.com/i/web/status/1019709091038...      True  \n",
       "2                            https://buff.ly/2L3kmc4      True  \n",
       "3  https://twitter.com/i/web/status/1019716662587...      True  \n",
       "4                     http://on.forbes.com/6013DqDDU      True  "
      ],
      "text/html": "<div>\n<style scoped>\n    .dataframe tbody tr th:only-of-type {\n        vertical-align: middle;\n    }\n\n    .dataframe tbody tr th {\n        vertical-align: top;\n    }\n\n    .dataframe thead th {\n        text-align: right;\n    }\n</style>\n<table border=\"1\" class=\"dataframe\">\n  <thead>\n    <tr style=\"text-align: right;\">\n      <th></th>\n      <th>id</th>\n      <th>text</th>\n      <th>timestamp</th>\n      <th>source</th>\n      <th>symbols</th>\n      <th>company_names</th>\n      <th>url</th>\n      <th>verified</th>\n    </tr>\n  </thead>\n  <tbody>\n    <tr>\n      <th>0</th>\n      <td>1019696670777503700</td>\n      <td>VIDEO: “I was in my office. I was minding my o...</td>\n      <td>Wed Jul 18 21:33:26 +0000 2018</td>\n      <td>GoldmanSachs</td>\n      <td>GS</td>\n      <td>The Goldman Sachs</td>\n      <td>https://twitter.com/i/web/status/1019696670777...</td>\n      <td>True</td>\n    </tr>\n    <tr>\n      <th>1</th>\n      <td>1019709091038548000</td>\n      <td>The price of lumber $LB_F is down 22% since hi...</td>\n      <td>Wed Jul 18 22:22:47 +0000 2018</td>\n      <td>StockTwits</td>\n      <td>M</td>\n      <td>Macy's</td>\n      <td>https://twitter.com/i/web/status/1019709091038...</td>\n      <td>True</td>\n    </tr>\n    <tr>\n      <th>2</th>\n      <td>1019711413798035500</td>\n      <td>Who says the American Dream is dead? https://t...</td>\n      <td>Wed Jul 18 22:32:01 +0000 2018</td>\n      <td>TheStreet</td>\n      <td>AIG</td>\n      <td>American</td>\n      <td>https://buff.ly/2L3kmc4</td>\n      <td>True</td>\n    </tr>\n    <tr>\n      <th>3</th>\n      <td>1019716662587740200</td>\n      <td>Barry Silbert is extremely optimistic on bitco...</td>\n      <td>Wed Jul 18 22:52:52 +0000 2018</td>\n      <td>MarketWatch</td>\n      <td>BTC</td>\n      <td>Bitcoin</td>\n      <td>https://twitter.com/i/web/status/1019716662587...</td>\n      <td>True</td>\n    </tr>\n    <tr>\n      <th>4</th>\n      <td>1019718460287389700</td>\n      <td>How satellites avoid attacks and space junk wh...</td>\n      <td>Wed Jul 18 23:00:01 +0000 2018</td>\n      <td>Forbes</td>\n      <td>ORCL</td>\n      <td>Oracle</td>\n      <td>http://on.forbes.com/6013DqDDU</td>\n      <td>True</td>\n    </tr>\n  </tbody>\n</table>\n</div>"
     },
     "metadata": {},
     "execution_count": 30
    }
   ],
   "source": [
    "skiprows = [730, 2835, 3057, 3112, 3193, 3204, 3254, 3519, 4077, 4086, 4087, 4498]\n",
    "stock_df = pd.read_csv('./datasets/stockerbot-export.csv', skiprows=skiprows)\n",
    "stock_df.head()"
   ]
  },
  {
   "cell_type": "code",
   "execution_count": 29,
   "metadata": {},
   "outputs": [
    {
     "output_type": "stream",
     "name": "stdout",
     "text": [
      "Index(['id', 'text', 'timestamp', 'source', 'symbols', 'company_names', 'url',\n       'verified'],\n      dtype='object')\n"
     ]
    }
   ],
   "source": [
    "print(df.columns)"
   ]
  },
  {
   "cell_type": "code",
   "execution_count": null,
   "metadata": {},
   "outputs": [],
   "source": []
  }
 ]
}