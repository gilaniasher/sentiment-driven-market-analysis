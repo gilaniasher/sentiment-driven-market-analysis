{
  "nbformat": 4,
  "nbformat_minor": 0,
  "metadata": {
    "colab": {
      "name": "final_tutorial_reddit.ipynb",
      "provenance": []
    },
    "kernelspec": {
      "name": "python3",
      "display_name": "Python 3"
    }
  },
  "cells": [
    {
      "cell_type": "code",
      "metadata": {
        "id": "hQj7YMmZnZ_P"
      },
      "source": [
        "import praw\n",
        "import pandas as pd\n",
        "from datetime import datetime\n",
        "\n",
        "# Establish connection with Reddit API\n",
        "reddit = praw.Reddit(user_agent='Comment Extraction (by /u/finaltutorial)',\n",
        "                     client_id='GHbnn7wSkzKftg',client_secret=\"PElco2geJIcllSCAjhl2DYMQ1aODqQ\",\n",
        "                     username='finaltutorial', password='320finaltutorial')"
      ],
      "execution_count": 37,
      "outputs": []
    },
    {
      "cell_type": "code",
      "metadata": {
        "colab": {
          "base_uri": "https://localhost:8080/",
          "height": 289
        },
        "id": "-V2A2exp4KDN",
        "outputId": "216a2daa-23e8-4145-e1ba-c7efe7405f08"
      },
      "source": [
        "# Perform data extraction on the /r/finance subreddit\n",
        "comm_list = []\n",
        "header_list = []\n",
        "subs = []\n",
        "\n",
        "# Sample 10 hottests posts on the finance subreddit\n",
        "hot_posts = reddit.subreddit('finance').hot(limit=10)\n",
        "\n",
        "for sub in hot_posts:\n",
        "    \n",
        "    # Store general data from hot posts\n",
        "    subs.append([sub.title, sub.score, sub.id, sub.subreddit, sub.url, sub.num_comments, sub.selftext, datetime.fromtimestamp(sub.created)])\n",
        "\n",
        "    # Generate list of comment IDs within posts\n",
        "    sub.comments.replace_more(limit=None)\n",
        "    comment_queue = sub.comments[:]  # Seed with top-level\n",
        "    \n",
        "    # Compile list of nested replies\n",
        "    while comment_queue:\n",
        "        header_list.append(sub.title)\n",
        "        comment = comment_queue.pop(0)\n",
        "        comm_list.append(comment.body)\n",
        "        t = []\n",
        "        t.extend(comment.replies)\n",
        "        while t:\n",
        "            header_list.append(sub.title)\n",
        "            reply = t.pop(0)\n",
        "            comm_list.append(reply.body)\n",
        "            \n",
        "# Generate general dataframe\n",
        "subs = pd.DataFrame(subs,columns=['title', 'score', 'id', 'subreddit', 'url', 'num_comments', 'body', 'created'])\n",
        "subs.head()"
      ],
      "execution_count": 38,
      "outputs": [
        {
          "output_type": "execute_result",
          "data": {
            "text/html": [
              "<div>\n",
              "<style scoped>\n",
              "    .dataframe tbody tr th:only-of-type {\n",
              "        vertical-align: middle;\n",
              "    }\n",
              "\n",
              "    .dataframe tbody tr th {\n",
              "        vertical-align: top;\n",
              "    }\n",
              "\n",
              "    .dataframe thead th {\n",
              "        text-align: right;\n",
              "    }\n",
              "</style>\n",
              "<table border=\"1\" class=\"dataframe\">\n",
              "  <thead>\n",
              "    <tr style=\"text-align: right;\">\n",
              "      <th></th>\n",
              "      <th>title</th>\n",
              "      <th>score</th>\n",
              "      <th>id</th>\n",
              "      <th>subreddit</th>\n",
              "      <th>url</th>\n",
              "      <th>num_comments</th>\n",
              "      <th>body</th>\n",
              "      <th>created</th>\n",
              "    </tr>\n",
              "  </thead>\n",
              "  <tbody>\n",
              "    <tr>\n",
              "      <th>0</th>\n",
              "      <td>Moronic Monday, December 14, 2020 - Your Weekl...</td>\n",
              "      <td>8</td>\n",
              "      <td>kcx8ya</td>\n",
              "      <td>finance</td>\n",
              "      <td>https://www.reddit.com/r/finance/comments/kcx8...</td>\n",
              "      <td>44</td>\n",
              "      <td>This is your safe place for questions on finan...</td>\n",
              "      <td>2020-12-14 21:04:16</td>\n",
              "    </tr>\n",
              "    <tr>\n",
              "      <th>1</th>\n",
              "      <td>I built a website to easily analyze the portfo...</td>\n",
              "      <td>155</td>\n",
              "      <td>kegs4g</td>\n",
              "      <td>finance</td>\n",
              "      <td>https://cheaperthanguru.com/</td>\n",
              "      <td>17</td>\n",
              "      <td></td>\n",
              "      <td>2020-12-17 04:07:38</td>\n",
              "    </tr>\n",
              "    <tr>\n",
              "      <th>2</th>\n",
              "      <td>Massachusetts Regulators to File Complaint Aga...</td>\n",
              "      <td>391</td>\n",
              "      <td>keagtt</td>\n",
              "      <td>finance</td>\n",
              "      <td>https://www.wsj.com/articles/massachusetts-reg...</td>\n",
              "      <td>101</td>\n",
              "      <td></td>\n",
              "      <td>2020-12-16 22:45:51</td>\n",
              "    </tr>\n",
              "    <tr>\n",
              "      <th>3</th>\n",
              "      <td>High-Frequency Traders Push Closer to Light Sp...</td>\n",
              "      <td>658</td>\n",
              "      <td>kdn0b9</td>\n",
              "      <td>finance</td>\n",
              "      <td>https://www.wsj.com/articles/high-frequency-tr...</td>\n",
              "      <td>145</td>\n",
              "      <td></td>\n",
              "      <td>2020-12-15 22:47:46</td>\n",
              "    </tr>\n",
              "    <tr>\n",
              "      <th>4</th>\n",
              "      <td>Domino's Pizza Analysis (NYSE: DPZ)</td>\n",
              "      <td>0</td>\n",
              "      <td>keht0d</td>\n",
              "      <td>finance</td>\n",
              "      <td>https://weekly10k.substack.com/p/dominos?r=abc...</td>\n",
              "      <td>0</td>\n",
              "      <td></td>\n",
              "      <td>2020-12-17 04:58:18</td>\n",
              "    </tr>\n",
              "  </tbody>\n",
              "</table>\n",
              "</div>"
            ],
            "text/plain": [
              "                                               title  ...             created\n",
              "0  Moronic Monday, December 14, 2020 - Your Weekl...  ... 2020-12-14 21:04:16\n",
              "1  I built a website to easily analyze the portfo...  ... 2020-12-17 04:07:38\n",
              "2  Massachusetts Regulators to File Complaint Aga...  ... 2020-12-16 22:45:51\n",
              "3  High-Frequency Traders Push Closer to Light Sp...  ... 2020-12-15 22:47:46\n",
              "4                Domino's Pizza Analysis (NYSE: DPZ)  ... 2020-12-17 04:58:18\n",
              "\n",
              "[5 rows x 8 columns]"
            ]
          },
          "metadata": {
            "tags": []
          },
          "execution_count": 38
        }
      ]
    },
    {
      "cell_type": "code",
      "metadata": {
        "colab": {
          "base_uri": "https://localhost:8080/",
          "height": 204
        },
        "id": "XX2v_PRZF6ez",
        "outputId": "2f873fc8-fc9a-46c4-c90f-274049696363"
      },
      "source": [
        "# Assemble comments from top posts in dataframe\n",
        "df = pd.DataFrame(header_list)\n",
        "df['comm_list'] = comm_list\n",
        "\n",
        "df.head()"
      ],
      "execution_count": 32,
      "outputs": [
        {
          "output_type": "execute_result",
          "data": {
            "text/html": [
              "<div>\n",
              "<style scoped>\n",
              "    .dataframe tbody tr th:only-of-type {\n",
              "        vertical-align: middle;\n",
              "    }\n",
              "\n",
              "    .dataframe tbody tr th {\n",
              "        vertical-align: top;\n",
              "    }\n",
              "\n",
              "    .dataframe thead th {\n",
              "        text-align: right;\n",
              "    }\n",
              "</style>\n",
              "<table border=\"1\" class=\"dataframe\">\n",
              "  <thead>\n",
              "    <tr style=\"text-align: right;\">\n",
              "      <th></th>\n",
              "      <th>0</th>\n",
              "      <th>comm_list</th>\n",
              "    </tr>\n",
              "  </thead>\n",
              "  <tbody>\n",
              "    <tr>\n",
              "      <th>0</th>\n",
              "      <td>Moronic Monday, December 14, 2020 - Your Weekl...</td>\n",
              "      <td>Hypothetical that I've never been able to get ...</td>\n",
              "    </tr>\n",
              "    <tr>\n",
              "      <th>1</th>\n",
              "      <td>Moronic Monday, December 14, 2020 - Your Weekl...</td>\n",
              "      <td>Yes, because the potential for share buybacks ...</td>\n",
              "    </tr>\n",
              "    <tr>\n",
              "      <th>2</th>\n",
              "      <td>Moronic Monday, December 14, 2020 - Your Weekl...</td>\n",
              "      <td>Depends on what you mean by “value” - one defi...</td>\n",
              "    </tr>\n",
              "    <tr>\n",
              "      <th>3</th>\n",
              "      <td>Moronic Monday, December 14, 2020 - Your Weekl...</td>\n",
              "      <td>As a shareholder you own a percentage of the c...</td>\n",
              "    </tr>\n",
              "    <tr>\n",
              "      <th>4</th>\n",
              "      <td>Moronic Monday, December 14, 2020 - Your Weekl...</td>\n",
              "      <td>Depends on the company, but if we assume in th...</td>\n",
              "    </tr>\n",
              "  </tbody>\n",
              "</table>\n",
              "</div>"
            ],
            "text/plain": [
              "                                                   0                                          comm_list\n",
              "0  Moronic Monday, December 14, 2020 - Your Weekl...  Hypothetical that I've never been able to get ...\n",
              "1  Moronic Monday, December 14, 2020 - Your Weekl...  Yes, because the potential for share buybacks ...\n",
              "2  Moronic Monday, December 14, 2020 - Your Weekl...  Depends on what you mean by “value” - one defi...\n",
              "3  Moronic Monday, December 14, 2020 - Your Weekl...  As a shareholder you own a percentage of the c...\n",
              "4  Moronic Monday, December 14, 2020 - Your Weekl...  Depends on the company, but if we assume in th..."
            ]
          },
          "metadata": {
            "tags": []
          },
          "execution_count": 32
        }
      ]
    },
    {
      "cell_type": "code",
      "metadata": {
        "colab": {
          "base_uri": "https://localhost:8080/",
          "height": 204
        },
        "id": "mpXqnbGyFVMp",
        "outputId": "dc99f078-cb67-435b-93c7-121c8489e419"
      },
      "source": [
        "# Perform pre-processessing and store in csv\n",
        "df.columns = ['title','comments']\n",
        "df['comments'] = df['comments'].apply(lambda x : x.replace('\\n',''))\n",
        "df.to_csv('finance_comments.csv',index = False)\n",
        "\n",
        "df.head()"
      ],
      "execution_count": 33,
      "outputs": [
        {
          "output_type": "execute_result",
          "data": {
            "text/html": [
              "<div>\n",
              "<style scoped>\n",
              "    .dataframe tbody tr th:only-of-type {\n",
              "        vertical-align: middle;\n",
              "    }\n",
              "\n",
              "    .dataframe tbody tr th {\n",
              "        vertical-align: top;\n",
              "    }\n",
              "\n",
              "    .dataframe thead th {\n",
              "        text-align: right;\n",
              "    }\n",
              "</style>\n",
              "<table border=\"1\" class=\"dataframe\">\n",
              "  <thead>\n",
              "    <tr style=\"text-align: right;\">\n",
              "      <th></th>\n",
              "      <th>title</th>\n",
              "      <th>comments</th>\n",
              "    </tr>\n",
              "  </thead>\n",
              "  <tbody>\n",
              "    <tr>\n",
              "      <th>0</th>\n",
              "      <td>Moronic Monday, December 14, 2020 - Your Weekl...</td>\n",
              "      <td>Hypothetical that I've never been able to get ...</td>\n",
              "    </tr>\n",
              "    <tr>\n",
              "      <th>1</th>\n",
              "      <td>Moronic Monday, December 14, 2020 - Your Weekl...</td>\n",
              "      <td>Yes, because the potential for share buybacks ...</td>\n",
              "    </tr>\n",
              "    <tr>\n",
              "      <th>2</th>\n",
              "      <td>Moronic Monday, December 14, 2020 - Your Weekl...</td>\n",
              "      <td>Depends on what you mean by “value” - one defi...</td>\n",
              "    </tr>\n",
              "    <tr>\n",
              "      <th>3</th>\n",
              "      <td>Moronic Monday, December 14, 2020 - Your Weekl...</td>\n",
              "      <td>As a shareholder you own a percentage of the c...</td>\n",
              "    </tr>\n",
              "    <tr>\n",
              "      <th>4</th>\n",
              "      <td>Moronic Monday, December 14, 2020 - Your Weekl...</td>\n",
              "      <td>Depends on the company, but if we assume in th...</td>\n",
              "    </tr>\n",
              "  </tbody>\n",
              "</table>\n",
              "</div>"
            ],
            "text/plain": [
              "                                               title                                           comments\n",
              "0  Moronic Monday, December 14, 2020 - Your Weekl...  Hypothetical that I've never been able to get ...\n",
              "1  Moronic Monday, December 14, 2020 - Your Weekl...  Yes, because the potential for share buybacks ...\n",
              "2  Moronic Monday, December 14, 2020 - Your Weekl...  Depends on what you mean by “value” - one defi...\n",
              "3  Moronic Monday, December 14, 2020 - Your Weekl...  As a shareholder you own a percentage of the c...\n",
              "4  Moronic Monday, December 14, 2020 - Your Weekl...  Depends on the company, but if we assume in th..."
            ]
          },
          "metadata": {
            "tags": []
          },
          "execution_count": 33
        }
      ]
    }
  ]
}